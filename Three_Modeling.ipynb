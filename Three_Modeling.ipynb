{
 "cells": [
  {
   "cell_type": "markdown",
   "id": "4681f891",
   "metadata": {},
   "source": [
    "<h1> How to Create a Reddit Post That Will Get The Most \n",
    "\n",
    "Engagement From Reddit Users - Modeling"
   ]
  },
  {
   "cell_type": "markdown",
   "id": "076170da",
   "metadata": {},
   "source": [
    "I have explored and cleaned my data, now I'm ready to start modeling! As a reminder - if a post is popular then `popular` is 1, if it is not it is 0."
   ]
  },
  {
   "cell_type": "markdown",
   "id": "1b49845b",
   "metadata": {},
   "source": [
    "# Import Libraries"
   ]
  },
  {
   "cell_type": "code",
   "execution_count": 1,
   "id": "67679beb",
   "metadata": {},
   "outputs": [],
   "source": [
    "import pandas as pd\n",
    "from sklearn.feature_extraction.text import CountVectorizer, TfidfVectorizer\n",
    "from sklearn.compose import make_column_transformer\n",
    "from sklearn.ensemble import RandomForestClassifier\n",
    "from sklearn.model_selection import cross_val_score,train_test_split, RandomizedSearchCV\n",
    "from sklearn.pipeline import Pipeline\n",
    "from sklearn.metrics import confusion_matrix, accuracy_score, classification_report\n",
    "import numpy as np\n",
    "from sklearn.tree import export_graphviz\n",
    "import pydot\n",
    "from sklearn import metrics\n",
    "import matplotlib.pyplot as plt\n",
    "import seaborn as sns\n",
    "from sklearn.linear_model import LogisticRegression\n",
    "from sklearn.pipeline import Pipeline, make_pipeline\n",
    "from scipy.stats import expon, lognorm, loguniform, randint, uniform"
   ]
  },
  {
   "cell_type": "markdown",
   "id": "f2e9a02f",
   "metadata": {},
   "source": [
    "# Load Data"
   ]
  },
  {
   "cell_type": "code",
   "execution_count": 2,
   "id": "65c25ac8",
   "metadata": {},
   "outputs": [],
   "source": [
    "converters = {'time_on_reddit': pd.to_timedelta,\n",
    "             'date_posted':pd.to_datetime}"
   ]
  },
  {
   "cell_type": "code",
   "execution_count": 3,
   "id": "1236f429",
   "metadata": {},
   "outputs": [
    {
     "data": {
      "text/html": [
       "<div>\n",
       "<style scoped>\n",
       "    .dataframe tbody tr th:only-of-type {\n",
       "        vertical-align: middle;\n",
       "    }\n",
       "\n",
       "    .dataframe tbody tr th {\n",
       "        vertical-align: top;\n",
       "    }\n",
       "\n",
       "    .dataframe thead th {\n",
       "        text-align: right;\n",
       "    }\n",
       "</style>\n",
       "<table border=\"1\" class=\"dataframe\">\n",
       "  <thead>\n",
       "    <tr style=\"text-align: right;\">\n",
       "      <th></th>\n",
       "      <th>subreddit</th>\n",
       "      <th>title</th>\n",
       "      <th>selftext</th>\n",
       "      <th>num_comments</th>\n",
       "      <th>time_on_reddit</th>\n",
       "      <th>date_posted</th>\n",
       "      <th>popular</th>\n",
       "    </tr>\n",
       "  </thead>\n",
       "  <tbody>\n",
       "    <tr>\n",
       "      <th>0</th>\n",
       "      <td>immigration</td>\n",
       "      <td>Trying to schedule a US visa interview in a co...</td>\n",
       "      <td>This is a weird one.\\n\\nI had my last visa int...</td>\n",
       "      <td>0</td>\n",
       "      <td>0 days 02:48:41.822990</td>\n",
       "      <td>2022-09-02 18:24:15+00:00</td>\n",
       "      <td>0</td>\n",
       "    </tr>\n",
       "    <tr>\n",
       "      <th>1</th>\n",
       "      <td>immigration</td>\n",
       "      <td>Visa interview date L-1B Blanket</td>\n",
       "      <td>Hi, I have two questions I’m hoping to get som...</td>\n",
       "      <td>0</td>\n",
       "      <td>0 days 03:03:57.822990</td>\n",
       "      <td>2022-09-02 18:08:59+00:00</td>\n",
       "      <td>0</td>\n",
       "    </tr>\n",
       "  </tbody>\n",
       "</table>\n",
       "</div>"
      ],
      "text/plain": [
       "     subreddit                                              title  \\\n",
       "0  immigration  Trying to schedule a US visa interview in a co...   \n",
       "1  immigration                   Visa interview date L-1B Blanket   \n",
       "\n",
       "                                            selftext  num_comments  \\\n",
       "0  This is a weird one.\\n\\nI had my last visa int...             0   \n",
       "1  Hi, I have two questions I’m hoping to get som...             0   \n",
       "\n",
       "          time_on_reddit               date_posted  popular  \n",
       "0 0 days 02:48:41.822990 2022-09-02 18:24:15+00:00        0  \n",
       "1 0 days 03:03:57.822990 2022-09-02 18:08:59+00:00        0  "
      ]
     },
     "execution_count": 3,
     "metadata": {},
     "output_type": "execute_result"
    }
   ],
   "source": [
    "df = pd.read_csv('reddit_immigration_posts', converters=converters)\n",
    "df.drop(columns='Unnamed: 0', inplace = True)\n",
    "df.head(2)"
   ]
  },
  {
   "cell_type": "code",
   "execution_count": 4,
   "id": "d3cde0f2",
   "metadata": {},
   "outputs": [
    {
     "data": {
      "text/plain": [
       "subreddit                      object\n",
       "title                          object\n",
       "selftext                       object\n",
       "num_comments                    int64\n",
       "time_on_reddit        timedelta64[ns]\n",
       "date_posted       datetime64[ns, UTC]\n",
       "popular                         int64\n",
       "dtype: object"
      ]
     },
     "execution_count": 4,
     "metadata": {},
     "output_type": "execute_result"
    }
   ],
   "source": [
    "df.dtypes"
   ]
  },
  {
   "cell_type": "code",
   "execution_count": 5,
   "id": "7a37606d",
   "metadata": {},
   "outputs": [
    {
     "data": {
      "text/plain": [
       "subreddit         0\n",
       "title             0\n",
       "selftext          0\n",
       "num_comments      0\n",
       "time_on_reddit    0\n",
       "date_posted       0\n",
       "popular           0\n",
       "dtype: int64"
      ]
     },
     "execution_count": 5,
     "metadata": {},
     "output_type": "execute_result"
    }
   ],
   "source": [
    "df.isnull().sum()"
   ]
  },
  {
   "cell_type": "markdown",
   "id": "9d7177b3",
   "metadata": {},
   "source": [
    "# Encode Title, Text, and Time \n",
    "In this section, I will convert my time_on_reddit to a float datatype by extacting the number of days it has been sinve the post has been up and storing that as a float. And I will also use count vecorized to encode title and selftext. Addittionally, I will be using a subset of my model for modeling because I have too much data to model and execute on my local server. Ideally, with more time and resources, I would make use of all my data to model."
   ]
  },
  {
   "cell_type": "code",
   "execution_count": 6,
   "id": "fe014ca3",
   "metadata": {},
   "outputs": [],
   "source": [
    "df_sample = df.sample(n=10_000, random_state=42)"
   ]
  },
  {
   "cell_type": "code",
   "execution_count": 7,
   "id": "f9820fdb",
   "metadata": {},
   "outputs": [],
   "source": [
    "df_sample.reset_index(inplace=True)"
   ]
  },
  {
   "cell_type": "code",
   "execution_count": 8,
   "id": "fd1d6d64",
   "metadata": {},
   "outputs": [
    {
     "data": {
      "text/html": [
       "<div>\n",
       "<style scoped>\n",
       "    .dataframe tbody tr th:only-of-type {\n",
       "        vertical-align: middle;\n",
       "    }\n",
       "\n",
       "    .dataframe tbody tr th {\n",
       "        vertical-align: top;\n",
       "    }\n",
       "\n",
       "    .dataframe thead th {\n",
       "        text-align: right;\n",
       "    }\n",
       "</style>\n",
       "<table border=\"1\" class=\"dataframe\">\n",
       "  <thead>\n",
       "    <tr style=\"text-align: right;\">\n",
       "      <th></th>\n",
       "      <th>index</th>\n",
       "      <th>subreddit</th>\n",
       "      <th>title</th>\n",
       "      <th>selftext</th>\n",
       "      <th>num_comments</th>\n",
       "      <th>time_on_reddit</th>\n",
       "      <th>date_posted</th>\n",
       "      <th>popular</th>\n",
       "    </tr>\n",
       "  </thead>\n",
       "  <tbody>\n",
       "    <tr>\n",
       "      <th>0</th>\n",
       "      <td>66878</td>\n",
       "      <td>immigration</td>\n",
       "      <td>Canada Express Entry system</td>\n",
       "      <td>NoContent</td>\n",
       "      <td>0</td>\n",
       "      <td>2615 days 08:55:16.822990</td>\n",
       "      <td>2015-07-06 12:17:40+00:00</td>\n",
       "      <td>0</td>\n",
       "    </tr>\n",
       "    <tr>\n",
       "      <th>1</th>\n",
       "      <td>36704</td>\n",
       "      <td>immigration</td>\n",
       "      <td>Son (over 21 years old) of a Legal permanent r...</td>\n",
       "      <td>How long will it take after submission of I-13...</td>\n",
       "      <td>11</td>\n",
       "      <td>1028 days 21:19:06.822990</td>\n",
       "      <td>2019-11-08 23:53:50+00:00</td>\n",
       "      <td>1</td>\n",
       "    </tr>\n",
       "    <tr>\n",
       "      <th>2</th>\n",
       "      <td>44855</td>\n",
       "      <td>immigration</td>\n",
       "      <td>Best Immigration Agents in Delhi</td>\n",
       "      <td>NoContent</td>\n",
       "      <td>0</td>\n",
       "      <td>1473 days 12:03:37.822990</td>\n",
       "      <td>2018-08-21 09:09:19+00:00</td>\n",
       "      <td>0</td>\n",
       "    </tr>\n",
       "    <tr>\n",
       "      <th>3</th>\n",
       "      <td>71336</td>\n",
       "      <td>immigration</td>\n",
       "      <td>Diversity perversity: Behind multicultural pus...</td>\n",
       "      <td>NoContent</td>\n",
       "      <td>0</td>\n",
       "      <td>3887 days 17:28:05.822990</td>\n",
       "      <td>2012-01-11 03:44:51+00:00</td>\n",
       "      <td>0</td>\n",
       "    </tr>\n",
       "    <tr>\n",
       "      <th>4</th>\n",
       "      <td>39414</td>\n",
       "      <td>immigration</td>\n",
       "      <td>Fiancee’s Grandparents trying to get to U.S. f...</td>\n",
       "      <td>My Fiancée’s grandparents are trying to get to...</td>\n",
       "      <td>9</td>\n",
       "      <td>1152 days 02:06:23.822990</td>\n",
       "      <td>2019-07-08 19:06:33+00:00</td>\n",
       "      <td>1</td>\n",
       "    </tr>\n",
       "  </tbody>\n",
       "</table>\n",
       "</div>"
      ],
      "text/plain": [
       "   index    subreddit                                              title  \\\n",
       "0  66878  immigration                        Canada Express Entry system   \n",
       "1  36704  immigration  Son (over 21 years old) of a Legal permanent r...   \n",
       "2  44855  immigration                   Best Immigration Agents in Delhi   \n",
       "3  71336  immigration  Diversity perversity: Behind multicultural pus...   \n",
       "4  39414  immigration  Fiancee’s Grandparents trying to get to U.S. f...   \n",
       "\n",
       "                                            selftext  num_comments  \\\n",
       "0                                          NoContent             0   \n",
       "1  How long will it take after submission of I-13...            11   \n",
       "2                                          NoContent             0   \n",
       "3                                          NoContent             0   \n",
       "4  My Fiancée’s grandparents are trying to get to...             9   \n",
       "\n",
       "             time_on_reddit               date_posted  popular  \n",
       "0 2615 days 08:55:16.822990 2015-07-06 12:17:40+00:00        0  \n",
       "1 1028 days 21:19:06.822990 2019-11-08 23:53:50+00:00        1  \n",
       "2 1473 days 12:03:37.822990 2018-08-21 09:09:19+00:00        0  \n",
       "3 3887 days 17:28:05.822990 2012-01-11 03:44:51+00:00        0  \n",
       "4 1152 days 02:06:23.822990 2019-07-08 19:06:33+00:00        1  "
      ]
     },
     "execution_count": 8,
     "metadata": {},
     "output_type": "execute_result"
    }
   ],
   "source": [
    "df_sample.head()"
   ]
  },
  {
   "cell_type": "code",
   "execution_count": 9,
   "id": "e9acee56",
   "metadata": {},
   "outputs": [
    {
     "data": {
      "text/plain": [
       "(10000, 2553)"
      ]
     },
     "execution_count": 9,
     "metadata": {},
     "output_type": "execute_result"
    }
   ],
   "source": [
    "tdif = TfidfVectorizer(stop_words='english', min_df= 3)\n",
    "title_tdif = tdif.fit_transform(df_sample['title'])\n",
    "title_tdif.shape"
   ]
  },
  {
   "cell_type": "code",
   "execution_count": 10,
   "id": "5a77cc68",
   "metadata": {},
   "outputs": [
    {
     "data": {
      "text/plain": [
       "(10000, 5810)"
      ]
     },
     "execution_count": 10,
     "metadata": {},
     "output_type": "execute_result"
    }
   ],
   "source": [
    "tdif_two = TfidfVectorizer(stop_words='english', min_df= 3)\n",
    "selftext_tdif = tdif_two.fit_transform(df_sample['selftext'])\n",
    "selftext_tdif.shape"
   ]
  },
  {
   "cell_type": "code",
   "execution_count": 11,
   "id": "5b6d2d0f",
   "metadata": {},
   "outputs": [],
   "source": [
    "title_cols = [i+'_title' for i in tdif.get_feature_names_out()]\n",
    "text_cols = [i+'_text' for i in tdif_two.get_feature_names_out()]"
   ]
  },
  {
   "cell_type": "code",
   "execution_count": 12,
   "id": "309a8701",
   "metadata": {},
   "outputs": [],
   "source": [
    "encoded_title = pd.DataFrame(title_tdif.toarray(), columns = title_cols)"
   ]
  },
  {
   "cell_type": "code",
   "execution_count": 13,
   "id": "ddd107bb",
   "metadata": {},
   "outputs": [],
   "source": [
    "encoded_text = pd.DataFrame(selftext_tdif.toarray(), columns = text_cols)"
   ]
  },
  {
   "cell_type": "code",
   "execution_count": 14,
   "id": "ce9abc26",
   "metadata": {},
   "outputs": [],
   "source": [
    "df_sample.drop(columns=['title'], inplace=True)"
   ]
  },
  {
   "cell_type": "code",
   "execution_count": 15,
   "id": "e207c4bd",
   "metadata": {},
   "outputs": [],
   "source": [
    "df_sample.drop(columns=['selftext'], inplace=True)"
   ]
  },
  {
   "cell_type": "code",
   "execution_count": 16,
   "id": "e6e8f0ea",
   "metadata": {},
   "outputs": [],
   "source": [
    "df_sample = pd.concat([df_sample, encoded_title, encoded_text], axis=1)"
   ]
  },
  {
   "cell_type": "code",
   "execution_count": 17,
   "id": "a97b8a25",
   "metadata": {},
   "outputs": [],
   "source": [
    "df_sample['time_on_reddit'] = df_sample.apply(lambda row: row.time_on_reddit.days, axis=1)"
   ]
  },
  {
   "cell_type": "code",
   "execution_count": 18,
   "id": "ee96e1ac",
   "metadata": {},
   "outputs": [
    {
     "data": {
      "text/plain": [
       "(10000, 8369)"
      ]
     },
     "execution_count": 18,
     "metadata": {},
     "output_type": "execute_result"
    }
   ],
   "source": [
    "df_sample.shape"
   ]
  },
  {
   "cell_type": "code",
   "execution_count": 19,
   "id": "ea418a0b",
   "metadata": {
    "scrolled": true
   },
   "outputs": [
    {
     "name": "stderr",
     "output_type": "stream",
     "text": [
      "/Users/abiza/opt/anaconda3/lib/python3.9/site-packages/sklearn/utils/deprecation.py:87: FutureWarning: Function get_feature_names is deprecated; get_feature_names is deprecated in 1.0 and will be removed in 1.2. Please use get_feature_names_out instead.\n",
      "  warnings.warn(msg, category=FutureWarning)\n"
     ]
    },
    {
     "data": {
      "text/plain": [
       "array(['domestic', 'requirements', 'resident', 'travel', 'permanent',\n",
       "       'eta', 'everify', 'evaluation', 'european', 'europe', 'eu', 'zero',\n",
       "       'estate', 'ex', 'establish', 'esta', 'essential', 'errors',\n",
       "       'error', 'era'], dtype='<U17')"
      ]
     },
     "execution_count": 19,
     "metadata": {},
     "output_type": "execute_result"
    }
   ],
   "source": [
    "feature_array = np.array(tdif.get_feature_names())\n",
    "tfidf_sorting = np.argsort(title_tdif.toarray()).flatten()[::-1]\n",
    "n = 20\n",
    "top_n = feature_array[tfidf_sorting][:n]\n",
    "top_n"
   ]
  },
  {
   "cell_type": "code",
   "execution_count": 20,
   "id": "1007e1cd",
   "metadata": {},
   "outputs": [
    {
     "data": {
      "text/plain": [
       "array(['travel', 'authorization', 'va', 'texas', 'sister', 'fly',\n",
       "       'documentation', 'kind', 'required', 'resident', 'permanent',\n",
       "       'visit', 'husband', 'recently', 'looking', 'wondering', 'home',\n",
       "       'green', 'citizen', 'card'], dtype='<U21')"
      ]
     },
     "execution_count": 20,
     "metadata": {},
     "output_type": "execute_result"
    }
   ],
   "source": [
    "feature_array = np.array(tdif_two.get_feature_names())\n",
    "tfidf_sorting = np.argsort(selftext_tdif.toarray()).flatten()[::-1]\n",
    "\n",
    "n = 20\n",
    "top_20 = feature_array[tfidf_sorting][:n]\n",
    "top_20"
   ]
  },
  {
   "cell_type": "markdown",
   "id": "8b0fd288",
   "metadata": {},
   "source": [
    "# Train Test Split"
   ]
  },
  {
   "cell_type": "code",
   "execution_count": 21,
   "id": "cc8e5310",
   "metadata": {},
   "outputs": [
    {
     "name": "stdout",
     "output_type": "stream",
     "text": [
      "X_train Size : (8000, 8364)\n",
      "X_test Size : (2000, 8364)\n",
      "y_train Size : (8000,)\n",
      "y_test Size : (2000,)\n"
     ]
    }
   ],
   "source": [
    "\n",
    "X = df_sample.drop(columns=['subreddit', 'date_posted', 'num_comments', 'popular', 'index'])\n",
    "y = df_sample['popular']\n",
    "\n",
    "X_train, X_test, y_train, y_test = train_test_split(X,y, test_size=0.20, random_state = 42)\n",
    "\n",
    "print(\"X_train Size :\",X_train.shape)\n",
    "print(\"X_test Size :\",X_test.shape)\n",
    "print(\"y_train Size :\",y_train.shape)\n",
    "print(\"y_test Size :\",y_test.shape)"
   ]
  },
  {
   "cell_type": "markdown",
   "id": "e5f42b5b",
   "metadata": {},
   "source": [
    "# Establishing Baseline"
   ]
  },
  {
   "cell_type": "code",
   "execution_count": 22,
   "id": "ba27dc3b",
   "metadata": {
    "scrolled": true
   },
   "outputs": [
    {
     "data": {
      "text/plain": [
       "0    0.5697\n",
       "1    0.4303\n",
       "Name: popular, dtype: float64"
      ]
     },
     "execution_count": 22,
     "metadata": {},
     "output_type": "execute_result"
    }
   ],
   "source": [
    "df_sample['popular'].value_counts(normalize=True)"
   ]
  },
  {
   "cell_type": "markdown",
   "id": "b2d9d083",
   "metadata": {},
   "source": [
    "The baseline model will predict that a post is not popular about 57% of the time and that it is\n",
    "popular 43% of the time."
   ]
  },
  {
   "cell_type": "code",
   "execution_count": 23,
   "id": "5cafdf22",
   "metadata": {},
   "outputs": [
    {
     "data": {
      "text/plain": [
       "0    5697\n",
       "1    4303\n",
       "Name: popular, dtype: int64"
      ]
     },
     "execution_count": 23,
     "metadata": {},
     "output_type": "execute_result"
    }
   ],
   "source": [
    "df_sample['popular'].value_counts()"
   ]
  },
  {
   "cell_type": "markdown",
   "id": "5f636198",
   "metadata": {},
   "source": [
    "# Model 1 - Random Forest Classifier"
   ]
  },
  {
   "cell_type": "code",
   "execution_count": 24,
   "id": "7ff52a38",
   "metadata": {
    "scrolled": false
   },
   "outputs": [],
   "source": [
    "rf = RandomForestClassifier(n_estimators=100, n_jobs=-1, random_state = 42)\n",
    "rf.fit(X_train,y_train)\n",
    "y_pred=rf.predict(X_test)"
   ]
  },
  {
   "cell_type": "code",
   "execution_count": 25,
   "id": "cabfea66",
   "metadata": {},
   "outputs": [
    {
     "name": "stdout",
     "output_type": "stream",
     "text": [
      "Testing Accuracy: 0.811\n"
     ]
    }
   ],
   "source": [
    "print(\"Testing Accuracy:\",metrics.accuracy_score(y_test, y_pred))"
   ]
  },
  {
   "cell_type": "markdown",
   "id": "830f15ad",
   "metadata": {},
   "source": [
    "This model can predict if a post on reddit is popular or not with 81% accuracy. Which is a big increase from the baseline model. "
   ]
  },
  {
   "cell_type": "code",
   "execution_count": 26,
   "id": "4db70600",
   "metadata": {
    "scrolled": true
   },
   "outputs": [],
   "source": [
    "feature_list = list(X.columns)\n",
    "importances = list(rf.feature_importances_)\n",
    "feature_importances = [(feature, round(importance, 2)) for feature, importance in zip(feature_list, importances)]\n",
    "feature_importances = sorted(feature_importances, key = lambda x: x[1], reverse = True)\n",
    "#[print('Variable: {:20} Importance: {}'.format(*pair)) for pair in feature_importances];\n"
   ]
  },
  {
   "cell_type": "code",
   "execution_count": 27,
   "id": "18642dee",
   "metadata": {},
   "outputs": [],
   "source": [
    "feature_importances = feature_importances[:12]"
   ]
  },
  {
   "cell_type": "code",
   "execution_count": 28,
   "id": "09979be5",
   "metadata": {},
   "outputs": [],
   "source": [
    "feature_importances_x = [i[0] for i in feature_importances]"
   ]
  },
  {
   "cell_type": "code",
   "execution_count": 29,
   "id": "9226cd6e",
   "metadata": {},
   "outputs": [],
   "source": [
    "feature_importances_y = [i[1] for i in feature_importances]"
   ]
  },
  {
   "cell_type": "code",
   "execution_count": 30,
   "id": "49e8e1f8",
   "metadata": {
    "scrolled": false
   },
   "outputs": [
    {
     "data": {
      "image/png": "[encoded data removed]",
      "text/plain": [
       "<Figure size 432x288 with 1 Axes>"
      ]
     },
     "metadata": {
      "needs_background": "light"
     },
     "output_type": "display_data"
    }
   ],
   "source": [
    "import matplotlib.pyplot as plt\n",
    "import seaborn as sns\n",
    "%matplotlib inline\n",
    "sns.barplot(x=feature_importances_x, y=feature_importances_y)\n",
    "plt.xlabel('Feature Importance Score')\n",
    "plt.ylabel('Features')\n",
    "plt.title(\"Visualizing Important Features\")\n",
    "plt.xticks(rotation=90)\n",
    "plt.show();"
   ]
  },
  {
   "cell_type": "markdown",
   "id": "8f089168",
   "metadata": {},
   "source": [
    "The most importanrt features that affects whether a post is popular is time on reddit, the word \"immigration\" in the title, the words \"card\", \"citizen\", green\", \"just\", \"know\", \"thanks\" and \"visa\". These features are pretty make a lot of sense, a posts time on reddit will increase engagement as more people are bound to see it. The words \"green\" and \"card\" most likely go hand in hand as people inqire about green cards. People in this subreddit usually post for other people who \"know\" the answer can share an answer. The words 'immigration\", \"visa\" , and \"citizen\" are pretty popular general words around immigrants. And finally, showing gratitude by saying \"thanks\" also increases engagement. Our model also believes \"nocontent_text\" which is a place holder for popts with no content that I decided to keep to preserve titles and from removed posts. It's interesting to see that posts with no content and just a title can still be popular.I will now create a model without the removed_text and nocontent_text features to see if I can get a better model."
   ]
  },
  {
   "cell_type": "code",
   "execution_count": 31,
   "id": "68554750",
   "metadata": {},
   "outputs": [
    {
     "name": "stdout",
     "output_type": "stream",
     "text": [
      "X_train Size : (8000, 8362)\n",
      "X_test Size : (2000, 8362)\n",
      "y_train Size : (8000,)\n",
      "y_test Size : (2000,)\n",
      "Testing Accuracy: 0.803\n"
     ]
    }
   ],
   "source": [
    "X = df_sample.drop(columns=['subreddit', 'date_posted', 'num_comments',\n",
    "                            'popular', 'index', \"nocontent_text\", \"removed_text\"])\n",
    "y = df_sample['popular']\n",
    "\n",
    "X_train, X_test, y_train, y_test = train_test_split(X,y, test_size=0.20, random_state = 42)\n",
    "\n",
    "print(\"X_train Size :\",X_train.shape)\n",
    "print(\"X_test Size :\",X_test.shape)\n",
    "print(\"y_train Size :\",y_train.shape)\n",
    "print(\"y_test Size :\",y_test.shape)\n",
    "\n",
    "rf = RandomForestClassifier(n_estimators=100, n_jobs=-1, random_state = 42)\n",
    "rf.fit(X_train,y_train)\n",
    "y_pred=rf.predict(X_test)\n",
    "\n",
    "print(\"Testing Accuracy:\",metrics.accuracy_score(y_test, y_pred))\n"
   ]
  },
  {
   "cell_type": "markdown",
   "id": "f0a550bf",
   "metadata": {},
   "source": [
    "It apprears removing those two features made our accuracy decrease slightly to 80%. In conclusion, our first random forest classifier model performed better and we can observe the freatures (time and words) that affect the popularity of a post."
   ]
  },
  {
   "cell_type": "markdown",
   "id": "c431ad9c",
   "metadata": {},
   "source": [
    "# Model 2 - Logistic Regression "
   ]
  },
  {
   "cell_type": "code",
   "execution_count": 32,
   "id": "3bc3c3fe",
   "metadata": {},
   "outputs": [],
   "source": [
    "X = df_sample.drop(columns=['subreddit', 'date_posted', 'num_comments', 'popular', 'index'])\n",
    "y = df_sample['popular']\n",
    "\n",
    "X_train, X_test, y_train, y_test = train_test_split(X,y, test_size=0.20, random_state = 42)"
   ]
  },
  {
   "cell_type": "code",
   "execution_count": 33,
   "id": "9a02c381",
   "metadata": {},
   "outputs": [
    {
     "name": "stdout",
     "output_type": "stream",
     "text": [
      "Testing Accuracy: 0.765\n"
     ]
    },
    {
     "name": "stderr",
     "output_type": "stream",
     "text": [
      "/Users/abiza/opt/anaconda3/lib/python3.9/site-packages/sklearn/linear_model/_logistic.py:814: ConvergenceWarning: lbfgs failed to converge (status=1):\n",
      "STOP: TOTAL NO. of ITERATIONS REACHED LIMIT.\n",
      "\n",
      "Increase the number of iterations (max_iter) or scale the data as shown in:\n",
      "    https://scikit-learn.org/stable/modules/preprocessing.html\n",
      "Please also refer to the documentation for alternative solver options:\n",
      "    https://scikit-learn.org/stable/modules/linear_model.html#logistic-regression\n",
      "  n_iter_i = _check_optimize_result(\n"
     ]
    }
   ],
   "source": [
    "log_reg = LogisticRegression()\n",
    "log_reg.fit(X_train, y_train)\n",
    "\n",
    "y_pred=log_reg.predict(X_test)\n",
    "print(\"Testing Accuracy:\",metrics.accuracy_score(y_test, y_pred))"
   ]
  },
  {
   "cell_type": "markdown",
   "id": "c381dab7",
   "metadata": {},
   "source": [
    "This model only has an accuracy score of 76.5%.I will use random search to try diffrent combinations of hyperparameters so see if I can get a higher score."
   ]
  },
  {
   "cell_type": "code",
   "execution_count": 34,
   "id": "79c60192",
   "metadata": {},
   "outputs": [
    {
     "name": "stderr",
     "output_type": "stream",
     "text": [
      "/Users/abiza/opt/anaconda3/lib/python3.9/site-packages/sklearn/linear_model/_logistic.py:814: ConvergenceWarning: lbfgs failed to converge (status=1):\n",
      "STOP: TOTAL NO. of ITERATIONS REACHED LIMIT.\n",
      "\n",
      "Increase the number of iterations (max_iter) or scale the data as shown in:\n",
      "    https://scikit-learn.org/stable/modules/preprocessing.html\n",
      "Please also refer to the documentation for alternative solver options:\n",
      "    https://scikit-learn.org/stable/modules/linear_model.html#logistic-regression\n",
      "  n_iter_i = _check_optimize_result(\n"
     ]
    },
    {
     "name": "stdout",
     "output_type": "stream",
     "text": [
      "Testing Accuracy: 0.764\n"
     ]
    }
   ],
   "source": [
    "log_reg = LogisticRegression(n_jobs=-1, random_state=42)\n",
    "log_reg.fit(X_train, y_train)\n",
    "\n",
    "y_pred=log_reg.predict(X_test)\n",
    "print(\"Testing Accuracy:\",metrics.accuracy_score(y_test, y_pred))"
   ]
  },
  {
   "cell_type": "markdown",
   "id": "3b9d55a0",
   "metadata": {},
   "source": [
    "Over all, this model is performing significantly worse than the random forest model. So, I will stick to my random forest model for making infrences and recommendations."
   ]
  }
 ],
 "metadata": {
  "kernelspec": {
   "display_name": "Python 3 (ipykernel)",
   "language": "python",
   "name": "python3"
  },
  "language_info": {
   "codemirror_mode": {
    "name": "ipython",
    "version": 3
   },
   "file_extension": ".py",
   "mimetype": "text/x-python",
   "name": "python",
   "nbconvert_exporter": "python",
   "pygments_lexer": "ipython3",
   "version": "3.9.12"
  }
 },
 "nbformat": 4,
 "nbformat_minor": 5
}
