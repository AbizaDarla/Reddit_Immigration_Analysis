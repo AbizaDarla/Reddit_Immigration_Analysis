{
 "cells": [
  {
   "cell_type": "markdown",
   "id": "ad9d75d2",
   "metadata": {},
   "source": [
    "<h1> How to Create a Reddit Post That Will Get The Most Engagement From Reddit Users - Scrape Data"
   ]
  },
  {
   "cell_type": "markdown",
   "id": "6827e9c0",
   "metadata": {},
   "source": [
    "In this notebook, I've used Reddit's PushShift API to scrape data from posts under the subreddit \"Immigration\".  "
   ]
  },
  {
   "cell_type": "markdown",
   "id": "96576018",
   "metadata": {
    "heading_collapsed": true
   },
   "source": [
    "# Imports"
   ]
  },
  {
   "cell_type": "code",
   "execution_count": 1,
   "id": "9411241a",
   "metadata": {
    "hidden": true
   },
   "outputs": [],
   "source": [
    "import praw\n",
    "from psaw import PushshiftAPI\n",
    "import pandas as pd\n",
    "from datetime import datetime, timezone"
   ]
  },
  {
   "cell_type": "markdown",
   "id": "6817bcf5",
   "metadata": {},
   "source": [
    "# Webscrapping For Data"
   ]
  },
  {
   "cell_type": "code",
   "execution_count": 2,
   "id": "05edacc8",
   "metadata": {},
   "outputs": [],
   "source": [
    "api = PushshiftAPI()"
   ]
  },
  {
   "cell_type": "code",
   "execution_count": 3,
   "id": "bc78a6a4",
   "metadata": {},
   "outputs": [],
   "source": [
    "api_request_generator = api.search_submissions(subreddit='Immigration')"
   ]
  },
  {
   "cell_type": "code",
   "execution_count": 4,
   "id": "8d7d484e",
   "metadata": {},
   "outputs": [
    {
     "name": "stderr",
     "output_type": "stream",
     "text": [
      "/Users/abiza/opt/anaconda3/lib/python3.9/site-packages/psaw/PushshiftAPI.py:252: UserWarning: Not all PushShift shards are active. Query results may be incomplete\n",
      "  warnings.warn(shards_down_message)\n"
     ]
    }
   ],
   "source": [
    "df = pd.DataFrame([submission.d_ for submission in api_request_generator])"
   ]
  },
  {
   "cell_type": "code",
   "execution_count": 5,
   "id": "61046217",
   "metadata": {},
   "outputs": [
    {
     "data": {
      "text/plain": [
       "Index(['all_awardings', 'allow_live_comments', 'author',\n",
       "       'author_flair_css_class', 'author_flair_richtext', 'author_flair_text',\n",
       "       'author_flair_type', 'author_fullname', 'author_is_blocked',\n",
       "       'author_patreon_flair', 'author_premium', 'awarders', 'can_mod_post',\n",
       "       'contest_mode', 'created_utc', 'domain', 'full_link', 'gildings', 'id',\n",
       "       'is_created_from_ads_ui', 'is_crosspostable', 'is_meta',\n",
       "       'is_original_content', 'is_reddit_media_domain', 'is_robot_indexable',\n",
       "       'is_self', 'is_video', 'link_flair_background_color',\n",
       "       'link_flair_richtext', 'link_flair_text_color', 'link_flair_type',\n",
       "       'locked', 'media_only', 'no_follow', 'num_comments', 'num_crossposts',\n",
       "       'over_18', 'parent_whitelist_status', 'permalink', 'pinned', 'pwls',\n",
       "       'retrieved_on', 'score', 'selftext', 'send_replies', 'spoiler',\n",
       "       'stickied', 'subreddit', 'subreddit_id', 'subreddit_subscribers',\n",
       "       'subreddit_type', 'suggested_sort', 'thumbnail', 'title',\n",
       "       'total_awards_received', 'treatment_tags', 'upvote_ratio', 'url',\n",
       "       'whitelist_status', 'wls', 'created', 'post_hint', 'preview',\n",
       "       'removed_by_category', 'author_flair_template_id',\n",
       "       'author_flair_text_color', 'thumbnail_height', 'thumbnail_width',\n",
       "       'url_overridden_by_dest', 'media', 'media_embed', 'secure_media',\n",
       "       'secure_media_embed', 'poll_data', 'author_cakeday',\n",
       "       'author_flair_background_color', 'edited', 'banned_by', 'gilded',\n",
       "       'steward_reports', 'removed_by', 'updated_utc', 'og_description',\n",
       "       'og_title', 'author_created_utc', 'category', 'content_categories',\n",
       "       'removal_reason', 'crosspost_parent', 'crosspost_parent_list',\n",
       "       'rte_mode', 'author_id', 'brand_safe', 'approved_at_utc',\n",
       "       'banned_at_utc', 'view_count', 'distinguished', 'mod_reports',\n",
       "       'user_reports'],\n",
       "      dtype='object')"
      ]
     },
     "execution_count": 5,
     "metadata": {},
     "output_type": "execute_result"
    }
   ],
   "source": [
    "df.columns"
   ]
  },
  {
   "cell_type": "code",
   "execution_count": 6,
   "id": "da0f8896",
   "metadata": {},
   "outputs": [
    {
     "data": {
      "text/plain": [
       "0    1662143055\n",
       "1    1662142139\n",
       "2    1662139650\n",
       "Name: created_utc, dtype: int64"
      ]
     },
     "execution_count": 6,
     "metadata": {},
     "output_type": "execute_result"
    }
   ],
   "source": [
    "df['created_utc'].head(3)"
   ]
  },
  {
   "cell_type": "code",
   "execution_count": 7,
   "id": "6370f574",
   "metadata": {},
   "outputs": [],
   "source": [
    "#create a data column \n",
    "df['date_posted'] = pd.to_datetime(df['created_utc'], utc=True, unit='s')"
   ]
  },
  {
   "cell_type": "code",
   "execution_count": 8,
   "id": "306752eb",
   "metadata": {},
   "outputs": [],
   "source": [
    "df['time_on_reddit']= datetime.now(timezone.utc) - df['date_posted'] "
   ]
  },
  {
   "cell_type": "code",
   "execution_count": 13,
   "id": "daa74331",
   "metadata": {
    "scrolled": true
   },
   "outputs": [
    {
     "data": {
      "text/html": [
       "<div>\n",
       "<style scoped>\n",
       "    .dataframe tbody tr th:only-of-type {\n",
       "        vertical-align: middle;\n",
       "    }\n",
       "\n",
       "    .dataframe tbody tr th {\n",
       "        vertical-align: top;\n",
       "    }\n",
       "\n",
       "    .dataframe thead th {\n",
       "        text-align: right;\n",
       "    }\n",
       "</style>\n",
       "<table border=\"1\" class=\"dataframe\">\n",
       "  <thead>\n",
       "    <tr style=\"text-align: right;\">\n",
       "      <th></th>\n",
       "      <th>subreddit</th>\n",
       "      <th>title</th>\n",
       "      <th>selftext</th>\n",
       "      <th>num_comments</th>\n",
       "      <th>time_on_reddit</th>\n",
       "      <th>date_posted</th>\n",
       "    </tr>\n",
       "  </thead>\n",
       "  <tbody>\n",
       "    <tr>\n",
       "      <th>0</th>\n",
       "      <td>immigration</td>\n",
       "      <td>Trying to schedule a US visa interview in a co...</td>\n",
       "      <td>This is a weird one.\\n\\nI had my last visa int...</td>\n",
       "      <td>0</td>\n",
       "      <td>0 days 02:48:41.822990</td>\n",
       "      <td>2022-09-02 18:24:15+00:00</td>\n",
       "    </tr>\n",
       "    <tr>\n",
       "      <th>1</th>\n",
       "      <td>immigration</td>\n",
       "      <td>Visa interview date L-1B Blanket</td>\n",
       "      <td>Hi, I have two questions I’m hoping to get som...</td>\n",
       "      <td>0</td>\n",
       "      <td>0 days 03:03:57.822990</td>\n",
       "      <td>2022-09-02 18:08:59+00:00</td>\n",
       "    </tr>\n",
       "    <tr>\n",
       "      <th>2</th>\n",
       "      <td>immigration</td>\n",
       "      <td>USA 485: possible violation of auth work restr...</td>\n",
       "      <td>Waiting for my F-2 EAD some years ago I did a ...</td>\n",
       "      <td>0</td>\n",
       "      <td>0 days 03:45:26.822990</td>\n",
       "      <td>2022-09-02 17:27:30+00:00</td>\n",
       "    </tr>\n",
       "  </tbody>\n",
       "</table>\n",
       "</div>"
      ],
      "text/plain": [
       "     subreddit                                              title  \\\n",
       "0  immigration  Trying to schedule a US visa interview in a co...   \n",
       "1  immigration                   Visa interview date L-1B Blanket   \n",
       "2  immigration  USA 485: possible violation of auth work restr...   \n",
       "\n",
       "                                            selftext  num_comments  \\\n",
       "0  This is a weird one.\\n\\nI had my last visa int...             0   \n",
       "1  Hi, I have two questions I’m hoping to get som...             0   \n",
       "2  Waiting for my F-2 EAD some years ago I did a ...             0   \n",
       "\n",
       "          time_on_reddit               date_posted  \n",
       "0 0 days 02:48:41.822990 2022-09-02 18:24:15+00:00  \n",
       "1 0 days 03:03:57.822990 2022-09-02 18:08:59+00:00  \n",
       "2 0 days 03:45:26.822990 2022-09-02 17:27:30+00:00  "
      ]
     },
     "execution_count": 13,
     "metadata": {},
     "output_type": "execute_result"
    }
   ],
   "source": [
    "new_df = df[['subreddit','title', 'selftext', 'num_comments','time_on_reddit', 'date_posted']]\n",
    "new_df.head(3)"
   ]
  },
  {
   "cell_type": "code",
   "execution_count": 14,
   "id": "d1126d44",
   "metadata": {},
   "outputs": [
    {
     "data": {
      "text/plain": [
       "subreddit                      object\n",
       "title                          object\n",
       "selftext                       object\n",
       "num_comments                    int64\n",
       "time_on_reddit        timedelta64[ns]\n",
       "date_posted       datetime64[ns, UTC]\n",
       "dtype: object"
      ]
     },
     "execution_count": 14,
     "metadata": {},
     "output_type": "execute_result"
    }
   ],
   "source": [
    "new_df.dtypes"
   ]
  },
  {
   "cell_type": "code",
   "execution_count": 15,
   "id": "f41549bf",
   "metadata": {},
   "outputs": [
    {
     "data": {
      "text/plain": [
       "count    78250.000000\n",
       "mean         4.087412\n",
       "std          9.561958\n",
       "min          0.000000\n",
       "25%          0.000000\n",
       "50%          1.000000\n",
       "75%          5.000000\n",
       "max       1316.000000\n",
       "Name: num_comments, dtype: float64"
      ]
     },
     "execution_count": 15,
     "metadata": {},
     "output_type": "execute_result"
    }
   ],
   "source": [
    "df.num_comments.describe()"
   ]
  },
  {
   "cell_type": "code",
   "execution_count": 16,
   "id": "540116a4",
   "metadata": {},
   "outputs": [
    {
     "data": {
      "text/plain": [
       "1.0"
      ]
     },
     "execution_count": 16,
     "metadata": {},
     "output_type": "execute_result"
    }
   ],
   "source": [
    "#add popular column (binary)\n",
    "#0 - not popular , 1 - popular \n",
    "median_num_comments = new_df['num_comments'].median()\n",
    "median_num_comments"
   ]
  },
  {
   "cell_type": "code",
   "execution_count": 17,
   "id": "33b84314",
   "metadata": {},
   "outputs": [
    {
     "data": {
      "text/plain": [
       "0"
      ]
     },
     "execution_count": 17,
     "metadata": {},
     "output_type": "execute_result"
    }
   ],
   "source": [
    "new_df.num_comments.isnull().sum()"
   ]
  },
  {
   "cell_type": "code",
   "execution_count": 18,
   "id": "3b01f7ee",
   "metadata": {},
   "outputs": [
    {
     "name": "stderr",
     "output_type": "stream",
     "text": [
      "/var/folders/vk/9266k70j5gq4qqhc2hb84sb40000gn/T/ipykernel_5221/1743526623.py:1: SettingWithCopyWarning: \n",
      "A value is trying to be set on a copy of a slice from a DataFrame.\n",
      "Try using .loc[row_indexer,col_indexer] = value instead\n",
      "\n",
      "See the caveats in the documentation: https://pandas.pydata.org/pandas-docs/stable/user_guide/indexing.html#returning-a-view-versus-a-copy\n",
      "  new_df['popular'] = [1 if num_comments > median_num_comments\n"
     ]
    }
   ],
   "source": [
    "new_df['popular'] = [1 if num_comments > median_num_comments \n",
    "                     else 0 for num_comments in new_df['num_comments']]"
   ]
  },
  {
   "cell_type": "code",
   "execution_count": 19,
   "id": "a5cbabb5",
   "metadata": {},
   "outputs": [
    {
     "data": {
      "text/html": [
       "<div>\n",
       "<style scoped>\n",
       "    .dataframe tbody tr th:only-of-type {\n",
       "        vertical-align: middle;\n",
       "    }\n",
       "\n",
       "    .dataframe tbody tr th {\n",
       "        vertical-align: top;\n",
       "    }\n",
       "\n",
       "    .dataframe thead th {\n",
       "        text-align: right;\n",
       "    }\n",
       "</style>\n",
       "<table border=\"1\" class=\"dataframe\">\n",
       "  <thead>\n",
       "    <tr style=\"text-align: right;\">\n",
       "      <th></th>\n",
       "      <th>subreddit</th>\n",
       "      <th>title</th>\n",
       "      <th>selftext</th>\n",
       "      <th>num_comments</th>\n",
       "      <th>time_on_reddit</th>\n",
       "      <th>date_posted</th>\n",
       "      <th>popular</th>\n",
       "    </tr>\n",
       "  </thead>\n",
       "  <tbody>\n",
       "    <tr>\n",
       "      <th>0</th>\n",
       "      <td>immigration</td>\n",
       "      <td>Trying to schedule a US visa interview in a co...</td>\n",
       "      <td>This is a weird one.\\n\\nI had my last visa int...</td>\n",
       "      <td>0</td>\n",
       "      <td>0 days 02:48:41.822990</td>\n",
       "      <td>2022-09-02 18:24:15+00:00</td>\n",
       "      <td>0</td>\n",
       "    </tr>\n",
       "    <tr>\n",
       "      <th>1</th>\n",
       "      <td>immigration</td>\n",
       "      <td>Visa interview date L-1B Blanket</td>\n",
       "      <td>Hi, I have two questions I’m hoping to get som...</td>\n",
       "      <td>0</td>\n",
       "      <td>0 days 03:03:57.822990</td>\n",
       "      <td>2022-09-02 18:08:59+00:00</td>\n",
       "      <td>0</td>\n",
       "    </tr>\n",
       "    <tr>\n",
       "      <th>2</th>\n",
       "      <td>immigration</td>\n",
       "      <td>USA 485: possible violation of auth work restr...</td>\n",
       "      <td>Waiting for my F-2 EAD some years ago I did a ...</td>\n",
       "      <td>0</td>\n",
       "      <td>0 days 03:45:26.822990</td>\n",
       "      <td>2022-09-02 17:27:30+00:00</td>\n",
       "      <td>0</td>\n",
       "    </tr>\n",
       "    <tr>\n",
       "      <th>3</th>\n",
       "      <td>immigration</td>\n",
       "      <td>TN Question</td>\n",
       "      <td>Hi! \\n\\nCan I (Canadian with TN status) bring ...</td>\n",
       "      <td>0</td>\n",
       "      <td>0 days 04:18:28.822990</td>\n",
       "      <td>2022-09-02 16:54:28+00:00</td>\n",
       "      <td>0</td>\n",
       "    </tr>\n",
       "    <tr>\n",
       "      <th>4</th>\n",
       "      <td>immigration</td>\n",
       "      <td>What paperwork is usually needed at preclearance?</td>\n",
       "      <td>I’m travelling from Dublin to jfk to visit my ...</td>\n",
       "      <td>0</td>\n",
       "      <td>0 days 05:20:22.822990</td>\n",
       "      <td>2022-09-02 15:52:34+00:00</td>\n",
       "      <td>0</td>\n",
       "    </tr>\n",
       "  </tbody>\n",
       "</table>\n",
       "</div>"
      ],
      "text/plain": [
       "     subreddit                                              title  \\\n",
       "0  immigration  Trying to schedule a US visa interview in a co...   \n",
       "1  immigration                   Visa interview date L-1B Blanket   \n",
       "2  immigration  USA 485: possible violation of auth work restr...   \n",
       "3  immigration                                        TN Question   \n",
       "4  immigration  What paperwork is usually needed at preclearance?   \n",
       "\n",
       "                                            selftext  num_comments  \\\n",
       "0  This is a weird one.\\n\\nI had my last visa int...             0   \n",
       "1  Hi, I have two questions I’m hoping to get som...             0   \n",
       "2  Waiting for my F-2 EAD some years ago I did a ...             0   \n",
       "3  Hi! \\n\\nCan I (Canadian with TN status) bring ...             0   \n",
       "4  I’m travelling from Dublin to jfk to visit my ...             0   \n",
       "\n",
       "          time_on_reddit               date_posted  popular  \n",
       "0 0 days 02:48:41.822990 2022-09-02 18:24:15+00:00        0  \n",
       "1 0 days 03:03:57.822990 2022-09-02 18:08:59+00:00        0  \n",
       "2 0 days 03:45:26.822990 2022-09-02 17:27:30+00:00        0  \n",
       "3 0 days 04:18:28.822990 2022-09-02 16:54:28+00:00        0  \n",
       "4 0 days 05:20:22.822990 2022-09-02 15:52:34+00:00        0  "
      ]
     },
     "execution_count": 19,
     "metadata": {},
     "output_type": "execute_result"
    }
   ],
   "source": [
    "new_df.head()"
   ]
  },
  {
   "cell_type": "code",
   "execution_count": 20,
   "id": "477ff62b",
   "metadata": {},
   "outputs": [],
   "source": [
    "#export data to CSV\n",
    "new_df.to_csv(\"reddit_immigration_posts\")"
   ]
  },
  {
   "cell_type": "markdown",
   "id": "1ae83ed5",
   "metadata": {},
   "source": [
    "I've successfully reddit's PushShift API to gather the data above. I collected the subreddits name (in this project it is just immigration), title of post, text of the post, length of time the post was on reddit, date of post,score of post, number of comments, number of cross posts, upvote ratio, have created a binary variable named popular that will be used for classification later. A post is considered popular if it has more than the median number of comments (which is 1) else it is not. Popular is denoted as 1, not popular is denoted as 0."
   ]
  }
 ],
 "metadata": {
  "kernelspec": {
   "display_name": "Python 3 (ipykernel)",
   "language": "python",
   "name": "python3"
  },
  "language_info": {
   "codemirror_mode": {
    "name": "ipython",
    "version": 3
   },
   "file_extension": ".py",
   "mimetype": "text/x-python",
   "name": "python",
   "nbconvert_exporter": "python",
   "pygments_lexer": "ipython3",
   "version": "3.9.12"
  }
 },
 "nbformat": 4,
 "nbformat_minor": 5
}
